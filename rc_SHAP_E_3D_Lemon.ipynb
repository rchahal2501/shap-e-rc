{
  "nbformat": 4,
  "nbformat_minor": 0,
  "metadata": {
    "colab": {
      "provenance": [],
      "gpuType": "T4",
      "include_colab_link": true
    },
    "kernelspec": {
      "name": "python3",
      "display_name": "Python 3"
    },
    "language_info": {
      "name": "python"
    },
    "accelerator": "GPU",
    "gpuClass": "standard",
    "widgets": {
      "application/vnd.jupyter.widget-state+json": {
        "f6d4bcf5e8b647cab5417ab513a9c058": {
          "model_module": "@jupyter-widgets/controls",
          "model_name": "HBoxModel",
          "model_module_version": "1.5.0",
          "state": {
            "_dom_classes": [],
            "_model_module": "@jupyter-widgets/controls",
            "_model_module_version": "1.5.0",
            "_model_name": "HBoxModel",
            "_view_count": null,
            "_view_module": "@jupyter-widgets/controls",
            "_view_module_version": "1.5.0",
            "_view_name": "HBoxView",
            "box_style": "",
            "children": [
              "IPY_MODEL_7e4d4bcc89924762b19660119d3f0fdc",
              "IPY_MODEL_a4545c26f8c943758166984254a9d311",
              "IPY_MODEL_767a3e642158498a9c55eba2adc405ee"
            ],
            "layout": "IPY_MODEL_ac512fff931747ad8aa73ee09677ce2a"
          }
        },
        "7e4d4bcc89924762b19660119d3f0fdc": {
          "model_module": "@jupyter-widgets/controls",
          "model_name": "HTMLModel",
          "model_module_version": "1.5.0",
          "state": {
            "_dom_classes": [],
            "_model_module": "@jupyter-widgets/controls",
            "_model_module_version": "1.5.0",
            "_model_name": "HTMLModel",
            "_view_count": null,
            "_view_module": "@jupyter-widgets/controls",
            "_view_module_version": "1.5.0",
            "_view_name": "HTMLView",
            "description": "",
            "description_tooltip": null,
            "layout": "IPY_MODEL_f2c1eea496004254b70951c272f8648a",
            "placeholder": "​",
            "style": "IPY_MODEL_c64a8e4e87db4aba8ac22e45da66e7e3",
            "value": "100%"
          }
        },
        "a4545c26f8c943758166984254a9d311": {
          "model_module": "@jupyter-widgets/controls",
          "model_name": "FloatProgressModel",
          "model_module_version": "1.5.0",
          "state": {
            "_dom_classes": [],
            "_model_module": "@jupyter-widgets/controls",
            "_model_module_version": "1.5.0",
            "_model_name": "FloatProgressModel",
            "_view_count": null,
            "_view_module": "@jupyter-widgets/controls",
            "_view_module_version": "1.5.0",
            "_view_name": "ProgressView",
            "bar_style": "success",
            "description": "",
            "description_tooltip": null,
            "layout": "IPY_MODEL_21908d041edf4ede8f14503f40a26b3a",
            "max": 1776048343,
            "min": 0,
            "orientation": "horizontal",
            "style": "IPY_MODEL_7fe22ddbc21744cea1fe4dbe2cedb3e0",
            "value": 1776048343
          }
        },
        "767a3e642158498a9c55eba2adc405ee": {
          "model_module": "@jupyter-widgets/controls",
          "model_name": "HTMLModel",
          "model_module_version": "1.5.0",
          "state": {
            "_dom_classes": [],
            "_model_module": "@jupyter-widgets/controls",
            "_model_module_version": "1.5.0",
            "_model_name": "HTMLModel",
            "_view_count": null,
            "_view_module": "@jupyter-widgets/controls",
            "_view_module_version": "1.5.0",
            "_view_name": "HTMLView",
            "description": "",
            "description_tooltip": null,
            "layout": "IPY_MODEL_1553bb85737d4a7bae5928cb353b7c7e",
            "placeholder": "​",
            "style": "IPY_MODEL_8b9fe1c4cea04fe383eedc6f043260f2",
            "value": " 1.78G/1.78G [00:58&lt;00:00, 19.9MiB/s]"
          }
        },
        "ac512fff931747ad8aa73ee09677ce2a": {
          "model_module": "@jupyter-widgets/base",
          "model_name": "LayoutModel",
          "model_module_version": "1.2.0",
          "state": {
            "_model_module": "@jupyter-widgets/base",
            "_model_module_version": "1.2.0",
            "_model_name": "LayoutModel",
            "_view_count": null,
            "_view_module": "@jupyter-widgets/base",
            "_view_module_version": "1.2.0",
            "_view_name": "LayoutView",
            "align_content": null,
            "align_items": null,
            "align_self": null,
            "border": null,
            "bottom": null,
            "display": null,
            "flex": null,
            "flex_flow": null,
            "grid_area": null,
            "grid_auto_columns": null,
            "grid_auto_flow": null,
            "grid_auto_rows": null,
            "grid_column": null,
            "grid_gap": null,
            "grid_row": null,
            "grid_template_areas": null,
            "grid_template_columns": null,
            "grid_template_rows": null,
            "height": null,
            "justify_content": null,
            "justify_items": null,
            "left": null,
            "margin": null,
            "max_height": null,
            "max_width": null,
            "min_height": null,
            "min_width": null,
            "object_fit": null,
            "object_position": null,
            "order": null,
            "overflow": null,
            "overflow_x": null,
            "overflow_y": null,
            "padding": null,
            "right": null,
            "top": null,
            "visibility": null,
            "width": null
          }
        },
        "f2c1eea496004254b70951c272f8648a": {
          "model_module": "@jupyter-widgets/base",
          "model_name": "LayoutModel",
          "model_module_version": "1.2.0",
          "state": {
            "_model_module": "@jupyter-widgets/base",
            "_model_module_version": "1.2.0",
            "_model_name": "LayoutModel",
            "_view_count": null,
            "_view_module": "@jupyter-widgets/base",
            "_view_module_version": "1.2.0",
            "_view_name": "LayoutView",
            "align_content": null,
            "align_items": null,
            "align_self": null,
            "border": null,
            "bottom": null,
            "display": null,
            "flex": null,
            "flex_flow": null,
            "grid_area": null,
            "grid_auto_columns": null,
            "grid_auto_flow": null,
            "grid_auto_rows": null,
            "grid_column": null,
            "grid_gap": null,
            "grid_row": null,
            "grid_template_areas": null,
            "grid_template_columns": null,
            "grid_template_rows": null,
            "height": null,
            "justify_content": null,
            "justify_items": null,
            "left": null,
            "margin": null,
            "max_height": null,
            "max_width": null,
            "min_height": null,
            "min_width": null,
            "object_fit": null,
            "object_position": null,
            "order": null,
            "overflow": null,
            "overflow_x": null,
            "overflow_y": null,
            "padding": null,
            "right": null,
            "top": null,
            "visibility": null,
            "width": null
          }
        },
        "c64a8e4e87db4aba8ac22e45da66e7e3": {
          "model_module": "@jupyter-widgets/controls",
          "model_name": "DescriptionStyleModel",
          "model_module_version": "1.5.0",
          "state": {
            "_model_module": "@jupyter-widgets/controls",
            "_model_module_version": "1.5.0",
            "_model_name": "DescriptionStyleModel",
            "_view_count": null,
            "_view_module": "@jupyter-widgets/base",
            "_view_module_version": "1.2.0",
            "_view_name": "StyleView",
            "description_width": ""
          }
        },
        "21908d041edf4ede8f14503f40a26b3a": {
          "model_module": "@jupyter-widgets/base",
          "model_name": "LayoutModel",
          "model_module_version": "1.2.0",
          "state": {
            "_model_module": "@jupyter-widgets/base",
            "_model_module_version": "1.2.0",
            "_model_name": "LayoutModel",
            "_view_count": null,
            "_view_module": "@jupyter-widgets/base",
            "_view_module_version": "1.2.0",
            "_view_name": "LayoutView",
            "align_content": null,
            "align_items": null,
            "align_self": null,
            "border": null,
            "bottom": null,
            "display": null,
            "flex": null,
            "flex_flow": null,
            "grid_area": null,
            "grid_auto_columns": null,
            "grid_auto_flow": null,
            "grid_auto_rows": null,
            "grid_column": null,
            "grid_gap": null,
            "grid_row": null,
            "grid_template_areas": null,
            "grid_template_columns": null,
            "grid_template_rows": null,
            "height": null,
            "justify_content": null,
            "justify_items": null,
            "left": null,
            "margin": null,
            "max_height": null,
            "max_width": null,
            "min_height": null,
            "min_width": null,
            "object_fit": null,
            "object_position": null,
            "order": null,
            "overflow": null,
            "overflow_x": null,
            "overflow_y": null,
            "padding": null,
            "right": null,
            "top": null,
            "visibility": null,
            "width": null
          }
        },
        "7fe22ddbc21744cea1fe4dbe2cedb3e0": {
          "model_module": "@jupyter-widgets/controls",
          "model_name": "ProgressStyleModel",
          "model_module_version": "1.5.0",
          "state": {
            "_model_module": "@jupyter-widgets/controls",
            "_model_module_version": "1.5.0",
            "_model_name": "ProgressStyleModel",
            "_view_count": null,
            "_view_module": "@jupyter-widgets/base",
            "_view_module_version": "1.2.0",
            "_view_name": "StyleView",
            "bar_color": null,
            "description_width": ""
          }
        },
        "1553bb85737d4a7bae5928cb353b7c7e": {
          "model_module": "@jupyter-widgets/base",
          "model_name": "LayoutModel",
          "model_module_version": "1.2.0",
          "state": {
            "_model_module": "@jupyter-widgets/base",
            "_model_module_version": "1.2.0",
            "_model_name": "LayoutModel",
            "_view_count": null,
            "_view_module": "@jupyter-widgets/base",
            "_view_module_version": "1.2.0",
            "_view_name": "LayoutView",
            "align_content": null,
            "align_items": null,
            "align_self": null,
            "border": null,
            "bottom": null,
            "display": null,
            "flex": null,
            "flex_flow": null,
            "grid_area": null,
            "grid_auto_columns": null,
            "grid_auto_flow": null,
            "grid_auto_rows": null,
            "grid_column": null,
            "grid_gap": null,
            "grid_row": null,
            "grid_template_areas": null,
            "grid_template_columns": null,
            "grid_template_rows": null,
            "height": null,
            "justify_content": null,
            "justify_items": null,
            "left": null,
            "margin": null,
            "max_height": null,
            "max_width": null,
            "min_height": null,
            "min_width": null,
            "object_fit": null,
            "object_position": null,
            "order": null,
            "overflow": null,
            "overflow_x": null,
            "overflow_y": null,
            "padding": null,
            "right": null,
            "top": null,
            "visibility": null,
            "width": null
          }
        },
        "8b9fe1c4cea04fe383eedc6f043260f2": {
          "model_module": "@jupyter-widgets/controls",
          "model_name": "DescriptionStyleModel",
          "model_module_version": "1.5.0",
          "state": {
            "_model_module": "@jupyter-widgets/controls",
            "_model_module_version": "1.5.0",
            "_model_name": "DescriptionStyleModel",
            "_view_count": null,
            "_view_module": "@jupyter-widgets/base",
            "_view_module_version": "1.2.0",
            "_view_name": "StyleView",
            "description_width": ""
          }
        },
        "f432ca880dc7483b9c5d8e99a6a83566": {
          "model_module": "@jupyter-widgets/controls",
          "model_name": "HBoxModel",
          "model_module_version": "1.5.0",
          "state": {
            "_dom_classes": [],
            "_model_module": "@jupyter-widgets/controls",
            "_model_module_version": "1.5.0",
            "_model_name": "HBoxModel",
            "_view_count": null,
            "_view_module": "@jupyter-widgets/controls",
            "_view_module_version": "1.5.0",
            "_view_name": "HBoxView",
            "box_style": "",
            "children": [
              "IPY_MODEL_e837e0600c8b40e69268ea78e9d5c53c",
              "IPY_MODEL_f57a3885f0d34d879ca62b4b267f2baf",
              "IPY_MODEL_4f793be234c241dba205aa2dedda194a"
            ],
            "layout": "IPY_MODEL_7529e88f400a4a7999c006a884f4aba5"
          }
        },
        "e837e0600c8b40e69268ea78e9d5c53c": {
          "model_module": "@jupyter-widgets/controls",
          "model_name": "HTMLModel",
          "model_module_version": "1.5.0",
          "state": {
            "_dom_classes": [],
            "_model_module": "@jupyter-widgets/controls",
            "_model_module_version": "1.5.0",
            "_model_name": "HTMLModel",
            "_view_count": null,
            "_view_module": "@jupyter-widgets/controls",
            "_view_module_version": "1.5.0",
            "_view_name": "HTMLView",
            "description": "",
            "description_tooltip": null,
            "layout": "IPY_MODEL_5eb9d2edd5d544c990973a79e05ef4a6",
            "placeholder": "​",
            "style": "IPY_MODEL_e275ea53f6c3490fb2b6b217ccdc4385",
            "value": "100%"
          }
        },
        "f57a3885f0d34d879ca62b4b267f2baf": {
          "model_module": "@jupyter-widgets/controls",
          "model_name": "FloatProgressModel",
          "model_module_version": "1.5.0",
          "state": {
            "_dom_classes": [],
            "_model_module": "@jupyter-widgets/controls",
            "_model_module_version": "1.5.0",
            "_model_name": "FloatProgressModel",
            "_view_count": null,
            "_view_module": "@jupyter-widgets/controls",
            "_view_module_version": "1.5.0",
            "_view_name": "ProgressView",
            "bar_style": "success",
            "description": "",
            "description_tooltip": null,
            "layout": "IPY_MODEL_26cab1f0dbc848119cb0600539df4c3a",
            "max": 1262868003,
            "min": 0,
            "orientation": "horizontal",
            "style": "IPY_MODEL_059bf36b2d284b2ab93a17039e21694a",
            "value": 1262868003
          }
        },
        "4f793be234c241dba205aa2dedda194a": {
          "model_module": "@jupyter-widgets/controls",
          "model_name": "HTMLModel",
          "model_module_version": "1.5.0",
          "state": {
            "_dom_classes": [],
            "_model_module": "@jupyter-widgets/controls",
            "_model_module_version": "1.5.0",
            "_model_name": "HTMLModel",
            "_view_count": null,
            "_view_module": "@jupyter-widgets/controls",
            "_view_module_version": "1.5.0",
            "_view_name": "HTMLView",
            "description": "",
            "description_tooltip": null,
            "layout": "IPY_MODEL_936f3e2b0c014459a2f67d273da11ac2",
            "placeholder": "​",
            "style": "IPY_MODEL_57fcbb4756bf4ee3aef32ba5db9b0c0b",
            "value": " 1.26G/1.26G [00:38&lt;00:00, 37.6MiB/s]"
          }
        },
        "7529e88f400a4a7999c006a884f4aba5": {
          "model_module": "@jupyter-widgets/base",
          "model_name": "LayoutModel",
          "model_module_version": "1.2.0",
          "state": {
            "_model_module": "@jupyter-widgets/base",
            "_model_module_version": "1.2.0",
            "_model_name": "LayoutModel",
            "_view_count": null,
            "_view_module": "@jupyter-widgets/base",
            "_view_module_version": "1.2.0",
            "_view_name": "LayoutView",
            "align_content": null,
            "align_items": null,
            "align_self": null,
            "border": null,
            "bottom": null,
            "display": null,
            "flex": null,
            "flex_flow": null,
            "grid_area": null,
            "grid_auto_columns": null,
            "grid_auto_flow": null,
            "grid_auto_rows": null,
            "grid_column": null,
            "grid_gap": null,
            "grid_row": null,
            "grid_template_areas": null,
            "grid_template_columns": null,
            "grid_template_rows": null,
            "height": null,
            "justify_content": null,
            "justify_items": null,
            "left": null,
            "margin": null,
            "max_height": null,
            "max_width": null,
            "min_height": null,
            "min_width": null,
            "object_fit": null,
            "object_position": null,
            "order": null,
            "overflow": null,
            "overflow_x": null,
            "overflow_y": null,
            "padding": null,
            "right": null,
            "top": null,
            "visibility": null,
            "width": null
          }
        },
        "5eb9d2edd5d544c990973a79e05ef4a6": {
          "model_module": "@jupyter-widgets/base",
          "model_name": "LayoutModel",
          "model_module_version": "1.2.0",
          "state": {
            "_model_module": "@jupyter-widgets/base",
            "_model_module_version": "1.2.0",
            "_model_name": "LayoutModel",
            "_view_count": null,
            "_view_module": "@jupyter-widgets/base",
            "_view_module_version": "1.2.0",
            "_view_name": "LayoutView",
            "align_content": null,
            "align_items": null,
            "align_self": null,
            "border": null,
            "bottom": null,
            "display": null,
            "flex": null,
            "flex_flow": null,
            "grid_area": null,
            "grid_auto_columns": null,
            "grid_auto_flow": null,
            "grid_auto_rows": null,
            "grid_column": null,
            "grid_gap": null,
            "grid_row": null,
            "grid_template_areas": null,
            "grid_template_columns": null,
            "grid_template_rows": null,
            "height": null,
            "justify_content": null,
            "justify_items": null,
            "left": null,
            "margin": null,
            "max_height": null,
            "max_width": null,
            "min_height": null,
            "min_width": null,
            "object_fit": null,
            "object_position": null,
            "order": null,
            "overflow": null,
            "overflow_x": null,
            "overflow_y": null,
            "padding": null,
            "right": null,
            "top": null,
            "visibility": null,
            "width": null
          }
        },
        "e275ea53f6c3490fb2b6b217ccdc4385": {
          "model_module": "@jupyter-widgets/controls",
          "model_name": "DescriptionStyleModel",
          "model_module_version": "1.5.0",
          "state": {
            "_model_module": "@jupyter-widgets/controls",
            "_model_module_version": "1.5.0",
            "_model_name": "DescriptionStyleModel",
            "_view_count": null,
            "_view_module": "@jupyter-widgets/base",
            "_view_module_version": "1.2.0",
            "_view_name": "StyleView",
            "description_width": ""
          }
        },
        "26cab1f0dbc848119cb0600539df4c3a": {
          "model_module": "@jupyter-widgets/base",
          "model_name": "LayoutModel",
          "model_module_version": "1.2.0",
          "state": {
            "_model_module": "@jupyter-widgets/base",
            "_model_module_version": "1.2.0",
            "_model_name": "LayoutModel",
            "_view_count": null,
            "_view_module": "@jupyter-widgets/base",
            "_view_module_version": "1.2.0",
            "_view_name": "LayoutView",
            "align_content": null,
            "align_items": null,
            "align_self": null,
            "border": null,
            "bottom": null,
            "display": null,
            "flex": null,
            "flex_flow": null,
            "grid_area": null,
            "grid_auto_columns": null,
            "grid_auto_flow": null,
            "grid_auto_rows": null,
            "grid_column": null,
            "grid_gap": null,
            "grid_row": null,
            "grid_template_areas": null,
            "grid_template_columns": null,
            "grid_template_rows": null,
            "height": null,
            "justify_content": null,
            "justify_items": null,
            "left": null,
            "margin": null,
            "max_height": null,
            "max_width": null,
            "min_height": null,
            "min_width": null,
            "object_fit": null,
            "object_position": null,
            "order": null,
            "overflow": null,
            "overflow_x": null,
            "overflow_y": null,
            "padding": null,
            "right": null,
            "top": null,
            "visibility": null,
            "width": null
          }
        },
        "059bf36b2d284b2ab93a17039e21694a": {
          "model_module": "@jupyter-widgets/controls",
          "model_name": "ProgressStyleModel",
          "model_module_version": "1.5.0",
          "state": {
            "_model_module": "@jupyter-widgets/controls",
            "_model_module_version": "1.5.0",
            "_model_name": "ProgressStyleModel",
            "_view_count": null,
            "_view_module": "@jupyter-widgets/base",
            "_view_module_version": "1.2.0",
            "_view_name": "StyleView",
            "bar_color": null,
            "description_width": ""
          }
        },
        "936f3e2b0c014459a2f67d273da11ac2": {
          "model_module": "@jupyter-widgets/base",
          "model_name": "LayoutModel",
          "model_module_version": "1.2.0",
          "state": {
            "_model_module": "@jupyter-widgets/base",
            "_model_module_version": "1.2.0",
            "_model_name": "LayoutModel",
            "_view_count": null,
            "_view_module": "@jupyter-widgets/base",
            "_view_module_version": "1.2.0",
            "_view_name": "LayoutView",
            "align_content": null,
            "align_items": null,
            "align_self": null,
            "border": null,
            "bottom": null,
            "display": null,
            "flex": null,
            "flex_flow": null,
            "grid_area": null,
            "grid_auto_columns": null,
            "grid_auto_flow": null,
            "grid_auto_rows": null,
            "grid_column": null,
            "grid_gap": null,
            "grid_row": null,
            "grid_template_areas": null,
            "grid_template_columns": null,
            "grid_template_rows": null,
            "height": null,
            "justify_content": null,
            "justify_items": null,
            "left": null,
            "margin": null,
            "max_height": null,
            "max_width": null,
            "min_height": null,
            "min_width": null,
            "object_fit": null,
            "object_position": null,
            "order": null,
            "overflow": null,
            "overflow_x": null,
            "overflow_y": null,
            "padding": null,
            "right": null,
            "top": null,
            "visibility": null,
            "width": null
          }
        },
        "57fcbb4756bf4ee3aef32ba5db9b0c0b": {
          "model_module": "@jupyter-widgets/controls",
          "model_name": "DescriptionStyleModel",
          "model_module_version": "1.5.0",
          "state": {
            "_model_module": "@jupyter-widgets/controls",
            "_model_module_version": "1.5.0",
            "_model_name": "DescriptionStyleModel",
            "_view_count": null,
            "_view_module": "@jupyter-widgets/base",
            "_view_module_version": "1.2.0",
            "_view_name": "StyleView",
            "description_width": ""
          }
        },
        "b0d27784b5164e82bb649660f656095a": {
          "model_module": "@jupyter-widgets/controls",
          "model_name": "HBoxModel",
          "model_module_version": "1.5.0",
          "state": {
            "_dom_classes": [],
            "_model_module": "@jupyter-widgets/controls",
            "_model_module_version": "1.5.0",
            "_model_name": "HBoxModel",
            "_view_count": null,
            "_view_module": "@jupyter-widgets/controls",
            "_view_module_version": "1.5.0",
            "_view_name": "HBoxView",
            "box_style": "",
            "children": [
              "IPY_MODEL_a3ccf016a89543b286165a189838f42c",
              "IPY_MODEL_1e64f289225b4490a1d3c70c47c0ee5c",
              "IPY_MODEL_93ccd1e5931447fcb6ca23201cb7e703"
            ],
            "layout": "IPY_MODEL_7b9224f8949849ff8d08cb83b0790f53"
          }
        },
        "a3ccf016a89543b286165a189838f42c": {
          "model_module": "@jupyter-widgets/controls",
          "model_name": "HTMLModel",
          "model_module_version": "1.5.0",
          "state": {
            "_dom_classes": [],
            "_model_module": "@jupyter-widgets/controls",
            "_model_module_version": "1.5.0",
            "_model_name": "HTMLModel",
            "_view_count": null,
            "_view_module": "@jupyter-widgets/controls",
            "_view_module_version": "1.5.0",
            "_view_name": "HTMLView",
            "description": "",
            "description_tooltip": null,
            "layout": "IPY_MODEL_5d6a93e9d07f4daabd6d8721693203aa",
            "placeholder": "​",
            "style": "IPY_MODEL_8d93e3e8208748e88ada744be6f3899d",
            "value": "100%"
          }
        },
        "1e64f289225b4490a1d3c70c47c0ee5c": {
          "model_module": "@jupyter-widgets/controls",
          "model_name": "FloatProgressModel",
          "model_module_version": "1.5.0",
          "state": {
            "_dom_classes": [],
            "_model_module": "@jupyter-widgets/controls",
            "_model_module_version": "1.5.0",
            "_model_name": "FloatProgressModel",
            "_view_count": null,
            "_view_module": "@jupyter-widgets/controls",
            "_view_module_version": "1.5.0",
            "_view_name": "ProgressView",
            "bar_style": "success",
            "description": "",
            "description_tooltip": null,
            "layout": "IPY_MODEL_b86ca3a9e4a447788a84cd6d3f0442ba",
            "max": 64,
            "min": 0,
            "orientation": "horizontal",
            "style": "IPY_MODEL_124824bb05de4f999698f42bef1b1a00",
            "value": 64
          }
        },
        "93ccd1e5931447fcb6ca23201cb7e703": {
          "model_module": "@jupyter-widgets/controls",
          "model_name": "HTMLModel",
          "model_module_version": "1.5.0",
          "state": {
            "_dom_classes": [],
            "_model_module": "@jupyter-widgets/controls",
            "_model_module_version": "1.5.0",
            "_model_name": "HTMLModel",
            "_view_count": null,
            "_view_module": "@jupyter-widgets/controls",
            "_view_module_version": "1.5.0",
            "_view_name": "HTMLView",
            "description": "",
            "description_tooltip": null,
            "layout": "IPY_MODEL_510b5ba56a6348e18f05746f6186be3b",
            "placeholder": "​",
            "style": "IPY_MODEL_9c3773d515e645a4ac2ea741d3603464",
            "value": " 64/64 [00:48&lt;00:00,  1.49it/s]"
          }
        },
        "7b9224f8949849ff8d08cb83b0790f53": {
          "model_module": "@jupyter-widgets/base",
          "model_name": "LayoutModel",
          "model_module_version": "1.2.0",
          "state": {
            "_model_module": "@jupyter-widgets/base",
            "_model_module_version": "1.2.0",
            "_model_name": "LayoutModel",
            "_view_count": null,
            "_view_module": "@jupyter-widgets/base",
            "_view_module_version": "1.2.0",
            "_view_name": "LayoutView",
            "align_content": null,
            "align_items": null,
            "align_self": null,
            "border": null,
            "bottom": null,
            "display": null,
            "flex": null,
            "flex_flow": null,
            "grid_area": null,
            "grid_auto_columns": null,
            "grid_auto_flow": null,
            "grid_auto_rows": null,
            "grid_column": null,
            "grid_gap": null,
            "grid_row": null,
            "grid_template_areas": null,
            "grid_template_columns": null,
            "grid_template_rows": null,
            "height": null,
            "justify_content": null,
            "justify_items": null,
            "left": null,
            "margin": null,
            "max_height": null,
            "max_width": null,
            "min_height": null,
            "min_width": null,
            "object_fit": null,
            "object_position": null,
            "order": null,
            "overflow": null,
            "overflow_x": null,
            "overflow_y": null,
            "padding": null,
            "right": null,
            "top": null,
            "visibility": null,
            "width": null
          }
        },
        "5d6a93e9d07f4daabd6d8721693203aa": {
          "model_module": "@jupyter-widgets/base",
          "model_name": "LayoutModel",
          "model_module_version": "1.2.0",
          "state": {
            "_model_module": "@jupyter-widgets/base",
            "_model_module_version": "1.2.0",
            "_model_name": "LayoutModel",
            "_view_count": null,
            "_view_module": "@jupyter-widgets/base",
            "_view_module_version": "1.2.0",
            "_view_name": "LayoutView",
            "align_content": null,
            "align_items": null,
            "align_self": null,
            "border": null,
            "bottom": null,
            "display": null,
            "flex": null,
            "flex_flow": null,
            "grid_area": null,
            "grid_auto_columns": null,
            "grid_auto_flow": null,
            "grid_auto_rows": null,
            "grid_column": null,
            "grid_gap": null,
            "grid_row": null,
            "grid_template_areas": null,
            "grid_template_columns": null,
            "grid_template_rows": null,
            "height": null,
            "justify_content": null,
            "justify_items": null,
            "left": null,
            "margin": null,
            "max_height": null,
            "max_width": null,
            "min_height": null,
            "min_width": null,
            "object_fit": null,
            "object_position": null,
            "order": null,
            "overflow": null,
            "overflow_x": null,
            "overflow_y": null,
            "padding": null,
            "right": null,
            "top": null,
            "visibility": null,
            "width": null
          }
        },
        "8d93e3e8208748e88ada744be6f3899d": {
          "model_module": "@jupyter-widgets/controls",
          "model_name": "DescriptionStyleModel",
          "model_module_version": "1.5.0",
          "state": {
            "_model_module": "@jupyter-widgets/controls",
            "_model_module_version": "1.5.0",
            "_model_name": "DescriptionStyleModel",
            "_view_count": null,
            "_view_module": "@jupyter-widgets/base",
            "_view_module_version": "1.2.0",
            "_view_name": "StyleView",
            "description_width": ""
          }
        },
        "b86ca3a9e4a447788a84cd6d3f0442ba": {
          "model_module": "@jupyter-widgets/base",
          "model_name": "LayoutModel",
          "model_module_version": "1.2.0",
          "state": {
            "_model_module": "@jupyter-widgets/base",
            "_model_module_version": "1.2.0",
            "_model_name": "LayoutModel",
            "_view_count": null,
            "_view_module": "@jupyter-widgets/base",
            "_view_module_version": "1.2.0",
            "_view_name": "LayoutView",
            "align_content": null,
            "align_items": null,
            "align_self": null,
            "border": null,
            "bottom": null,
            "display": null,
            "flex": null,
            "flex_flow": null,
            "grid_area": null,
            "grid_auto_columns": null,
            "grid_auto_flow": null,
            "grid_auto_rows": null,
            "grid_column": null,
            "grid_gap": null,
            "grid_row": null,
            "grid_template_areas": null,
            "grid_template_columns": null,
            "grid_template_rows": null,
            "height": null,
            "justify_content": null,
            "justify_items": null,
            "left": null,
            "margin": null,
            "max_height": null,
            "max_width": null,
            "min_height": null,
            "min_width": null,
            "object_fit": null,
            "object_position": null,
            "order": null,
            "overflow": null,
            "overflow_x": null,
            "overflow_y": null,
            "padding": null,
            "right": null,
            "top": null,
            "visibility": null,
            "width": null
          }
        },
        "124824bb05de4f999698f42bef1b1a00": {
          "model_module": "@jupyter-widgets/controls",
          "model_name": "ProgressStyleModel",
          "model_module_version": "1.5.0",
          "state": {
            "_model_module": "@jupyter-widgets/controls",
            "_model_module_version": "1.5.0",
            "_model_name": "ProgressStyleModel",
            "_view_count": null,
            "_view_module": "@jupyter-widgets/base",
            "_view_module_version": "1.2.0",
            "_view_name": "StyleView",
            "bar_color": null,
            "description_width": ""
          }
        },
        "510b5ba56a6348e18f05746f6186be3b": {
          "model_module": "@jupyter-widgets/base",
          "model_name": "LayoutModel",
          "model_module_version": "1.2.0",
          "state": {
            "_model_module": "@jupyter-widgets/base",
            "_model_module_version": "1.2.0",
            "_model_name": "LayoutModel",
            "_view_count": null,
            "_view_module": "@jupyter-widgets/base",
            "_view_module_version": "1.2.0",
            "_view_name": "LayoutView",
            "align_content": null,
            "align_items": null,
            "align_self": null,
            "border": null,
            "bottom": null,
            "display": null,
            "flex": null,
            "flex_flow": null,
            "grid_area": null,
            "grid_auto_columns": null,
            "grid_auto_flow": null,
            "grid_auto_rows": null,
            "grid_column": null,
            "grid_gap": null,
            "grid_row": null,
            "grid_template_areas": null,
            "grid_template_columns": null,
            "grid_template_rows": null,
            "height": null,
            "justify_content": null,
            "justify_items": null,
            "left": null,
            "margin": null,
            "max_height": null,
            "max_width": null,
            "min_height": null,
            "min_width": null,
            "object_fit": null,
            "object_position": null,
            "order": null,
            "overflow": null,
            "overflow_x": null,
            "overflow_y": null,
            "padding": null,
            "right": null,
            "top": null,
            "visibility": null,
            "width": null
          }
        },
        "9c3773d515e645a4ac2ea741d3603464": {
          "model_module": "@jupyter-widgets/controls",
          "model_name": "DescriptionStyleModel",
          "model_module_version": "1.5.0",
          "state": {
            "_model_module": "@jupyter-widgets/controls",
            "_model_module_version": "1.5.0",
            "_model_name": "DescriptionStyleModel",
            "_view_count": null,
            "_view_module": "@jupyter-widgets/base",
            "_view_module_version": "1.2.0",
            "_view_name": "StyleView",
            "description_width": ""
          }
        },
        "4afada88afea4b0ba81f59f07d0050fe": {
          "model_module": "@jupyter-widgets/controls",
          "model_name": "HTMLModel",
          "model_module_version": "1.5.0",
          "state": {
            "_dom_classes": [],
            "_model_module": "@jupyter-widgets/controls",
            "_model_module_version": "1.5.0",
            "_model_name": "HTMLModel",
            "_view_count": null,
            "_view_module": "@jupyter-widgets/controls",
            "_view_module_version": "1.5.0",
            "_view_name": "HTMLView",
            "description": "",
            "description_tooltip": null,
            "layout": "IPY_MODEL_c5303d456e794feea958253e0564c074",
            "placeholder": "​",
            "style": "IPY_MODEL_e1515ed5d1fb48418ab8fb76b47d80aa",
            "value": "<img src=\"data:image/gif;base64,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\" />"
          }
        },
        "c5303d456e794feea958253e0564c074": {
          "model_module": "@jupyter-widgets/base",
          "model_name": "LayoutModel",
          "model_module_version": "1.2.0",
          "state": {
            "_model_module": "@jupyter-widgets/base",
            "_model_module_version": "1.2.0",
            "_model_name": "LayoutModel",
            "_view_count": null,
            "_view_module": "@jupyter-widgets/base",
            "_view_module_version": "1.2.0",
            "_view_name": "LayoutView",
            "align_content": null,
            "align_items": null,
            "align_self": null,
            "border": null,
            "bottom": null,
            "display": null,
            "flex": null,
            "flex_flow": null,
            "grid_area": null,
            "grid_auto_columns": null,
            "grid_auto_flow": null,
            "grid_auto_rows": null,
            "grid_column": null,
            "grid_gap": null,
            "grid_row": null,
            "grid_template_areas": null,
            "grid_template_columns": null,
            "grid_template_rows": null,
            "height": null,
            "justify_content": null,
            "justify_items": null,
            "left": null,
            "margin": null,
            "max_height": null,
            "max_width": null,
            "min_height": null,
            "min_width": null,
            "object_fit": null,
            "object_position": null,
            "order": null,
            "overflow": null,
            "overflow_x": null,
            "overflow_y": null,
            "padding": null,
            "right": null,
            "top": null,
            "visibility": null,
            "width": null
          }
        },
        "e1515ed5d1fb48418ab8fb76b47d80aa": {
          "model_module": "@jupyter-widgets/controls",
          "model_name": "DescriptionStyleModel",
          "model_module_version": "1.5.0",
          "state": {
            "_model_module": "@jupyter-widgets/controls",
            "_model_module_version": "1.5.0",
            "_model_name": "DescriptionStyleModel",
            "_view_count": null,
            "_view_module": "@jupyter-widgets/base",
            "_view_module_version": "1.2.0",
            "_view_name": "StyleView",
            "description_width": ""
          }
        },
        "e011c48b565e494a8f200dbeeb0e6040": {
          "model_module": "@jupyter-widgets/controls",
          "model_name": "HTMLModel",
          "model_module_version": "1.5.0",
          "state": {
            "_dom_classes": [],
            "_model_module": "@jupyter-widgets/controls",
            "_model_module_version": "1.5.0",
            "_model_name": "HTMLModel",
            "_view_count": null,
            "_view_module": "@jupyter-widgets/controls",
            "_view_module_version": "1.5.0",
            "_view_name": "HTMLView",
            "description": "",
            "description_tooltip": null,
            "layout": "IPY_MODEL_b283b88b5f754c249787a327ba8198fd",
            "placeholder": "​",
            "style": "IPY_MODEL_5e70fce5c5bb42a3b99638f81248bacd",
            "value": "<img src=\"data:image/gif;base64,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\" />"
          }
        },
        "b283b88b5f754c249787a327ba8198fd": {
          "model_module": "@jupyter-widgets/base",
          "model_name": "LayoutModel",
          "model_module_version": "1.2.0",
          "state": {
            "_model_module": "@jupyter-widgets/base",
            "_model_module_version": "1.2.0",
            "_model_name": "LayoutModel",
            "_view_count": null,
            "_view_module": "@jupyter-widgets/base",
            "_view_module_version": "1.2.0",
            "_view_name": "LayoutView",
            "align_content": null,
            "align_items": null,
            "align_self": null,
            "border": null,
            "bottom": null,
            "display": null,
            "flex": null,
            "flex_flow": null,
            "grid_area": null,
            "grid_auto_columns": null,
            "grid_auto_flow": null,
            "grid_auto_rows": null,
            "grid_column": null,
            "grid_gap": null,
            "grid_row": null,
            "grid_template_areas": null,
            "grid_template_columns": null,
            "grid_template_rows": null,
            "height": null,
            "justify_content": null,
            "justify_items": null,
            "left": null,
            "margin": null,
            "max_height": null,
            "max_width": null,
            "min_height": null,
            "min_width": null,
            "object_fit": null,
            "object_position": null,
            "order": null,
            "overflow": null,
            "overflow_x": null,
            "overflow_y": null,
            "padding": null,
            "right": null,
            "top": null,
            "visibility": null,
            "width": null
          }
        },
        "5e70fce5c5bb42a3b99638f81248bacd": {
          "model_module": "@jupyter-widgets/controls",
          "model_name": "DescriptionStyleModel",
          "model_module_version": "1.5.0",
          "state": {
            "_model_module": "@jupyter-widgets/controls",
            "_model_module_version": "1.5.0",
            "_model_name": "DescriptionStyleModel",
            "_view_count": null,
            "_view_module": "@jupyter-widgets/base",
            "_view_module_version": "1.2.0",
            "_view_name": "StyleView",
            "description_width": ""
          }
        }
      }
    }
  },
  "cells": [
    {
      "cell_type": "markdown",
      "metadata": {
        "id": "view-in-github",
        "colab_type": "text"
      },
      "source": [
        "<a href=\"https://colab.research.google.com/github/rchahal2501/shap-e-rc/blob/main/rc_SHAP_E_3D_Lemon.ipynb\" target=\"_parent\"><img src=\"https://colab.research.google.com/assets/colab-badge.svg\" alt=\"Open In Colab\"/></a>"
      ]
    },
    {
      "cell_type": "code",
      "execution_count": null,
      "metadata": {
        "colab": {
          "base_uri": "https://localhost:8080/"
        },
        "id": "A07fkSE80Fr_",
        "outputId": "dbb299e3-8b67-472f-b910-1659bf3966de"
      },
      "outputs": [
        {
          "output_type": "stream",
          "name": "stdout",
          "text": [
            "Cloning into 'shap-e'...\n",
            "remote: Enumerating objects: 325, done.\u001b[K\n",
            "remote: Counting objects: 100% (47/47), done.\u001b[K\n",
            "remote: Compressing objects: 100% (34/34), done.\u001b[K\n",
            "remote: Total 325 (delta 30), reused 13 (delta 13), pack-reused 278\u001b[K\n",
            "Receiving objects: 100% (325/325), 11.71 MiB | 27.43 MiB/s, done.\n",
            "Resolving deltas: 100% (47/47), done.\n"
          ]
        }
      ],
      "source": [
        "!git clone https://github.com/openai/shap-e"
      ]
    },
    {
      "cell_type": "code",
      "source": [
        "%cd shap-e"
      ],
      "metadata": {
        "colab": {
          "base_uri": "https://localhost:8080/"
        },
        "id": "eSUrOeSF0RC1",
        "outputId": "fa0b8f28-21b0-4cf7-8884-34b408444663"
      },
      "execution_count": null,
      "outputs": [
        {
          "output_type": "stream",
          "name": "stdout",
          "text": [
            "/content/shap-e\n"
          ]
        }
      ]
    },
    {
      "cell_type": "code",
      "source": [
        "!pip install -e ."
      ],
      "metadata": {
        "colab": {
          "base_uri": "https://localhost:8080/"
        },
        "id": "7-fLWame0qJw",
        "outputId": "26adf473-ff92-4b96-9679-a4db8ca81bd9"
      },
      "execution_count": null,
      "outputs": [
        {
          "output_type": "stream",
          "name": "stdout",
          "text": [
            "Obtaining file:///content/shap-e\n",
            "  Preparing metadata (setup.py) ... \u001b[?25l\u001b[?25hdone\n",
            "Collecting clip@ git+https://github.com/openai/CLIP.git (from shap-e==0.0.0)\n",
            "  Cloning https://github.com/openai/CLIP.git to /tmp/pip-install-1ef2mkm3/clip_b5ded6b2a91d428bb51c73e40c5d028d\n",
            "  Running command git clone --filter=blob:none --quiet https://github.com/openai/CLIP.git /tmp/pip-install-1ef2mkm3/clip_b5ded6b2a91d428bb51c73e40c5d028d\n",
            "  Resolved https://github.com/openai/CLIP.git to commit a9b1bf5920416aaeaec965c25dd9e8f98c864f16\n",
            "  Preparing metadata (setup.py) ... \u001b[?25l\u001b[?25hdone\n",
            "Requirement already satisfied: filelock in /usr/local/lib/python3.10/dist-packages (from shap-e==0.0.0) (3.12.2)\n",
            "Requirement already satisfied: Pillow in /usr/local/lib/python3.10/dist-packages (from shap-e==0.0.0) (8.4.0)\n",
            "Requirement already satisfied: torch in /usr/local/lib/python3.10/dist-packages (from shap-e==0.0.0) (2.0.1+cu118)\n",
            "Collecting fire (from shap-e==0.0.0)\n",
            "  Downloading fire-0.5.0.tar.gz (88 kB)\n",
            "\u001b[2K     \u001b[90m━━━━━━━━━━━━━━━━━━━━━━━━━━━━━━━━━━━━━━━━\u001b[0m \u001b[32m88.3/88.3 kB\u001b[0m \u001b[31m5.6 MB/s\u001b[0m eta \u001b[36m0:00:00\u001b[0m\n",
            "\u001b[?25h  Preparing metadata (setup.py) ... \u001b[?25l\u001b[?25hdone\n",
            "Requirement already satisfied: humanize in /usr/local/lib/python3.10/dist-packages (from shap-e==0.0.0) (4.6.0)\n",
            "Requirement already satisfied: requests in /usr/local/lib/python3.10/dist-packages (from shap-e==0.0.0) (2.27.1)\n",
            "Requirement already satisfied: tqdm in /usr/local/lib/python3.10/dist-packages (from shap-e==0.0.0) (4.65.0)\n",
            "Requirement already satisfied: matplotlib in /usr/local/lib/python3.10/dist-packages (from shap-e==0.0.0) (3.7.1)\n",
            "Requirement already satisfied: scikit-image in /usr/local/lib/python3.10/dist-packages (from shap-e==0.0.0) (0.19.3)\n",
            "Requirement already satisfied: scipy in /usr/local/lib/python3.10/dist-packages (from shap-e==0.0.0) (1.10.1)\n",
            "Requirement already satisfied: numpy in /usr/local/lib/python3.10/dist-packages (from shap-e==0.0.0) (1.22.4)\n",
            "Collecting blobfile (from shap-e==0.0.0)\n",
            "  Downloading blobfile-2.0.2-py3-none-any.whl (74 kB)\n",
            "\u001b[2K     \u001b[90m━━━━━━━━━━━━━━━━━━━━━━━━━━━━━━━━━━━━━━━━\u001b[0m \u001b[32m74.5/74.5 kB\u001b[0m \u001b[31m11.1 MB/s\u001b[0m eta \u001b[36m0:00:00\u001b[0m\n",
            "\u001b[?25hCollecting pycryptodomex~=3.8 (from blobfile->shap-e==0.0.0)\n",
            "  Downloading pycryptodomex-3.18.0-cp35-abi3-manylinux_2_17_x86_64.manylinux2014_x86_64.whl (2.1 MB)\n",
            "\u001b[2K     \u001b[90m━━━━━━━━━━━━━━━━━━━━━━━━━━━━━━━━━━━━━━━━\u001b[0m \u001b[32m2.1/2.1 MB\u001b[0m \u001b[31m56.0 MB/s\u001b[0m eta \u001b[36m0:00:00\u001b[0m\n",
            "\u001b[?25hRequirement already satisfied: urllib3<3,>=1.25.3 in /usr/local/lib/python3.10/dist-packages (from blobfile->shap-e==0.0.0) (1.26.16)\n",
            "Requirement already satisfied: lxml~=4.9 in /usr/local/lib/python3.10/dist-packages (from blobfile->shap-e==0.0.0) (4.9.2)\n",
            "Collecting ftfy (from clip@ git+https://github.com/openai/CLIP.git->shap-e==0.0.0)\n",
            "  Downloading ftfy-6.1.1-py3-none-any.whl (53 kB)\n",
            "\u001b[2K     \u001b[90m━━━━━━━━━━━━━━━━━━━━━━━━━━━━━━━━━━━━━━━━\u001b[0m \u001b[32m53.1/53.1 kB\u001b[0m \u001b[31m7.1 MB/s\u001b[0m eta \u001b[36m0:00:00\u001b[0m\n",
            "\u001b[?25hRequirement already satisfied: regex in /usr/local/lib/python3.10/dist-packages (from clip@ git+https://github.com/openai/CLIP.git->shap-e==0.0.0) (2022.10.31)\n",
            "Requirement already satisfied: torchvision in /usr/local/lib/python3.10/dist-packages (from clip@ git+https://github.com/openai/CLIP.git->shap-e==0.0.0) (0.15.2+cu118)\n",
            "Requirement already satisfied: six in /usr/local/lib/python3.10/dist-packages (from fire->shap-e==0.0.0) (1.16.0)\n",
            "Requirement already satisfied: termcolor in /usr/local/lib/python3.10/dist-packages (from fire->shap-e==0.0.0) (2.3.0)\n",
            "Requirement already satisfied: contourpy>=1.0.1 in /usr/local/lib/python3.10/dist-packages (from matplotlib->shap-e==0.0.0) (1.1.0)\n",
            "Requirement already satisfied: cycler>=0.10 in /usr/local/lib/python3.10/dist-packages (from matplotlib->shap-e==0.0.0) (0.11.0)\n",
            "Requirement already satisfied: fonttools>=4.22.0 in /usr/local/lib/python3.10/dist-packages (from matplotlib->shap-e==0.0.0) (4.40.0)\n",
            "Requirement already satisfied: kiwisolver>=1.0.1 in /usr/local/lib/python3.10/dist-packages (from matplotlib->shap-e==0.0.0) (1.4.4)\n",
            "Requirement already satisfied: packaging>=20.0 in /usr/local/lib/python3.10/dist-packages (from matplotlib->shap-e==0.0.0) (23.1)\n",
            "Requirement already satisfied: pyparsing>=2.3.1 in /usr/local/lib/python3.10/dist-packages (from matplotlib->shap-e==0.0.0) (3.1.0)\n",
            "Requirement already satisfied: python-dateutil>=2.7 in /usr/local/lib/python3.10/dist-packages (from matplotlib->shap-e==0.0.0) (2.8.2)\n",
            "Requirement already satisfied: certifi>=2017.4.17 in /usr/local/lib/python3.10/dist-packages (from requests->shap-e==0.0.0) (2023.5.7)\n",
            "Requirement already satisfied: charset-normalizer~=2.0.0 in /usr/local/lib/python3.10/dist-packages (from requests->shap-e==0.0.0) (2.0.12)\n",
            "Requirement already satisfied: idna<4,>=2.5 in /usr/local/lib/python3.10/dist-packages (from requests->shap-e==0.0.0) (3.4)\n",
            "Requirement already satisfied: networkx>=2.2 in /usr/local/lib/python3.10/dist-packages (from scikit-image->shap-e==0.0.0) (3.1)\n",
            "Requirement already satisfied: imageio>=2.4.1 in /usr/local/lib/python3.10/dist-packages (from scikit-image->shap-e==0.0.0) (2.25.1)\n",
            "Requirement already satisfied: tifffile>=2019.7.26 in /usr/local/lib/python3.10/dist-packages (from scikit-image->shap-e==0.0.0) (2023.4.12)\n",
            "Requirement already satisfied: PyWavelets>=1.1.1 in /usr/local/lib/python3.10/dist-packages (from scikit-image->shap-e==0.0.0) (1.4.1)\n",
            "Requirement already satisfied: typing-extensions in /usr/local/lib/python3.10/dist-packages (from torch->shap-e==0.0.0) (4.6.3)\n",
            "Requirement already satisfied: sympy in /usr/local/lib/python3.10/dist-packages (from torch->shap-e==0.0.0) (1.11.1)\n",
            "Requirement already satisfied: jinja2 in /usr/local/lib/python3.10/dist-packages (from torch->shap-e==0.0.0) (3.1.2)\n",
            "Requirement already satisfied: triton==2.0.0 in /usr/local/lib/python3.10/dist-packages (from torch->shap-e==0.0.0) (2.0.0)\n",
            "Requirement already satisfied: cmake in /usr/local/lib/python3.10/dist-packages (from triton==2.0.0->torch->shap-e==0.0.0) (3.25.2)\n",
            "Requirement already satisfied: lit in /usr/local/lib/python3.10/dist-packages (from triton==2.0.0->torch->shap-e==0.0.0) (16.0.6)\n",
            "Requirement already satisfied: wcwidth>=0.2.5 in /usr/local/lib/python3.10/dist-packages (from ftfy->clip@ git+https://github.com/openai/CLIP.git->shap-e==0.0.0) (0.2.6)\n",
            "Requirement already satisfied: MarkupSafe>=2.0 in /usr/local/lib/python3.10/dist-packages (from jinja2->torch->shap-e==0.0.0) (2.1.3)\n",
            "Requirement already satisfied: mpmath>=0.19 in /usr/local/lib/python3.10/dist-packages (from sympy->torch->shap-e==0.0.0) (1.3.0)\n",
            "Building wheels for collected packages: clip, fire\n",
            "  Building wheel for clip (setup.py) ... \u001b[?25l\u001b[?25hdone\n",
            "  Created wheel for clip: filename=clip-1.0-py3-none-any.whl size=1369370 sha256=257675930ab72424c6442c77773d8743fea7e21b891099ff3a51cbc5192cae3f\n",
            "  Stored in directory: /tmp/pip-ephem-wheel-cache-3mzgg6j2/wheels/da/2b/4c/d6691fa9597aac8bb85d2ac13b112deb897d5b50f5ad9a37e4\n",
            "  Building wheel for fire (setup.py) ... \u001b[?25l\u001b[?25hdone\n",
            "  Created wheel for fire: filename=fire-0.5.0-py2.py3-none-any.whl size=116932 sha256=4cbcc36bf61326e303ed4363dde88838c0dc7f348ab27f655337147e964e2a94\n",
            "  Stored in directory: /root/.cache/pip/wheels/90/d4/f7/9404e5db0116bd4d43e5666eaa3e70ab53723e1e3ea40c9a95\n",
            "Successfully built clip fire\n",
            "Installing collected packages: pycryptodomex, ftfy, fire, blobfile, clip, shap-e\n",
            "  Running setup.py develop for shap-e\n",
            "Successfully installed blobfile-2.0.2 clip-1.0 fire-0.5.0 ftfy-6.1.1 pycryptodomex-3.18.0 shap-e-0.0.0\n"
          ]
        }
      ]
    },
    {
      "cell_type": "code",
      "source": [
        "import torch\n",
        "\n",
        "from shap_e.diffusion.sample import sample_latents\n",
        "from shap_e.diffusion.gaussian_diffusion import diffusion_from_config\n",
        "from shap_e.models.download import load_model, load_config\n",
        "from shap_e.util.notebooks import create_pan_cameras, decode_latent_images, gif_widget"
      ],
      "metadata": {
        "id": "0m-XcU8i0WmR"
      },
      "execution_count": null,
      "outputs": []
    },
    {
      "cell_type": "code",
      "source": [
        "device = torch.device('cuda' if torch.cuda.is_available() else 'cpu')\n"
      ],
      "metadata": {
        "id": "DoZyEOAv0i5A"
      },
      "execution_count": null,
      "outputs": []
    },
    {
      "cell_type": "code",
      "source": [
        "xm = load_model('transmitter', device=device)\n",
        "model = load_model('text300M', device=device)\n",
        "diffusion = diffusion_from_config(load_config('diffusion'))"
      ],
      "metadata": {
        "colab": {
          "base_uri": "https://localhost:8080/",
          "height": 98,
          "referenced_widgets": [
            "f6d4bcf5e8b647cab5417ab513a9c058",
            "7e4d4bcc89924762b19660119d3f0fdc",
            "a4545c26f8c943758166984254a9d311",
            "767a3e642158498a9c55eba2adc405ee",
            "ac512fff931747ad8aa73ee09677ce2a",
            "f2c1eea496004254b70951c272f8648a",
            "c64a8e4e87db4aba8ac22e45da66e7e3",
            "21908d041edf4ede8f14503f40a26b3a",
            "7fe22ddbc21744cea1fe4dbe2cedb3e0",
            "1553bb85737d4a7bae5928cb353b7c7e",
            "8b9fe1c4cea04fe383eedc6f043260f2",
            "f432ca880dc7483b9c5d8e99a6a83566",
            "e837e0600c8b40e69268ea78e9d5c53c",
            "f57a3885f0d34d879ca62b4b267f2baf",
            "4f793be234c241dba205aa2dedda194a",
            "7529e88f400a4a7999c006a884f4aba5",
            "5eb9d2edd5d544c990973a79e05ef4a6",
            "e275ea53f6c3490fb2b6b217ccdc4385",
            "26cab1f0dbc848119cb0600539df4c3a",
            "059bf36b2d284b2ab93a17039e21694a",
            "936f3e2b0c014459a2f67d273da11ac2",
            "57fcbb4756bf4ee3aef32ba5db9b0c0b"
          ]
        },
        "id": "RybJQ3160yFe",
        "outputId": "d0a57dab-8fa8-41ce-f84e-0df4f23a109b"
      },
      "execution_count": null,
      "outputs": [
        {
          "output_type": "display_data",
          "data": {
            "text/plain": [
              "  0%|          | 0.00/1.78G [00:00<?, ?iB/s]"
            ],
            "application/vnd.jupyter.widget-view+json": {
              "version_major": 2,
              "version_minor": 0,
              "model_id": "f6d4bcf5e8b647cab5417ab513a9c058"
            }
          },
          "metadata": {}
        },
        {
          "output_type": "stream",
          "name": "stderr",
          "text": [
            "100%|███████████████████████████████████████| 890M/890M [00:16<00:00, 57.9MiB/s]\n"
          ]
        },
        {
          "output_type": "display_data",
          "data": {
            "text/plain": [
              "  0%|          | 0.00/1.26G [00:00<?, ?iB/s]"
            ],
            "application/vnd.jupyter.widget-view+json": {
              "version_major": 2,
              "version_minor": 0,
              "model_id": "f432ca880dc7483b9c5d8e99a6a83566"
            }
          },
          "metadata": {}
        }
      ]
    },
    {
      "cell_type": "code",
      "source": [
        "batch_size = 2\n",
        "guidance_scale = 15.0\n",
        "prompt = \"a lemon\"\n",
        "\n",
        "latents = sample_latents(\n",
        "    batch_size=batch_size,\n",
        "    model=model,\n",
        "    diffusion=diffusion,\n",
        "    guidance_scale=guidance_scale,\n",
        "    model_kwargs=dict(texts=[prompt] * batch_size),\n",
        "    progress=True,\n",
        "    clip_denoised=True,\n",
        "    use_fp16=True,\n",
        "    use_karras=True,\n",
        "    karras_steps=64,\n",
        "    sigma_min=1e-3,\n",
        "    sigma_max=160,\n",
        "    s_churn=0,\n",
        ")"
      ],
      "metadata": {
        "colab": {
          "base_uri": "https://localhost:8080/",
          "height": 49,
          "referenced_widgets": [
            "b0d27784b5164e82bb649660f656095a",
            "a3ccf016a89543b286165a189838f42c",
            "1e64f289225b4490a1d3c70c47c0ee5c",
            "93ccd1e5931447fcb6ca23201cb7e703",
            "7b9224f8949849ff8d08cb83b0790f53",
            "5d6a93e9d07f4daabd6d8721693203aa",
            "8d93e3e8208748e88ada744be6f3899d",
            "b86ca3a9e4a447788a84cd6d3f0442ba",
            "124824bb05de4f999698f42bef1b1a00",
            "510b5ba56a6348e18f05746f6186be3b",
            "9c3773d515e645a4ac2ea741d3603464"
          ]
        },
        "id": "Ye90kA6KeYjB",
        "outputId": "94beb37e-f8de-4503-8a02-591811fe95c7"
      },
      "execution_count": null,
      "outputs": [
        {
          "output_type": "display_data",
          "data": {
            "text/plain": [
              "  0%|          | 0/64 [00:00<?, ?it/s]"
            ],
            "application/vnd.jupyter.widget-view+json": {
              "version_major": 2,
              "version_minor": 0,
              "model_id": "b0d27784b5164e82bb649660f656095a"
            }
          },
          "metadata": {}
        }
      ]
    },
    {
      "cell_type": "code",
      "source": [
        "render_mode = 'stf' # you can change this to 'stf' or 'nerf'\n",
        "size = 64 # this is the size of the renders; higher values take longer to render.\n",
        "\n",
        "cameras = create_pan_cameras(size, device)\n",
        "for i, latent in enumerate(latents):\n",
        "    images = decode_latent_images(xm, latent, cameras, rendering_mode=render_mode)\n",
        "    display(gif_widget(images))"
      ],
      "metadata": {
        "colab": {
          "base_uri": "https://localhost:8080/",
          "height": 259,
          "referenced_widgets": [
            "4afada88afea4b0ba81f59f07d0050fe",
            "c5303d456e794feea958253e0564c074",
            "e1515ed5d1fb48418ab8fb76b47d80aa",
            "e011c48b565e494a8f200dbeeb0e6040",
            "b283b88b5f754c249787a327ba8198fd",
            "5e70fce5c5bb42a3b99638f81248bacd"
          ]
        },
        "id": "iSN7AXg2eeW3",
        "outputId": "f411de28-fc0b-4eb5-87e1-754aad8a8d74"
      },
      "execution_count": null,
      "outputs": [
        {
          "output_type": "stream",
          "name": "stderr",
          "text": [
            "/content/shap-e/shap_e/models/stf/renderer.py:286: UserWarning: exception rendering with PyTorch3D: No module named 'pytorch3d'\n",
            "  warnings.warn(f\"exception rendering with PyTorch3D: {exc}\")\n",
            "/content/shap-e/shap_e/models/stf/renderer.py:287: UserWarning: falling back on native PyTorch renderer, which does not support full gradients\n",
            "  warnings.warn(\n"
          ]
        },
        {
          "output_type": "display_data",
          "data": {
            "text/plain": [
              "HTML(value='<img src=\"data:image/gif;base64,R0lGODlhQABAAIQAAAAAAGYzAGZmAJlmAGaZAJmZAMyZAJnMAMzMAP/MAGZmM5lmM2…"
            ],
            "application/vnd.jupyter.widget-view+json": {
              "version_major": 2,
              "version_minor": 0,
              "model_id": "4afada88afea4b0ba81f59f07d0050fe"
            }
          },
          "metadata": {}
        },
        {
          "output_type": "display_data",
          "data": {
            "text/plain": [
              "HTML(value='<img src=\"data:image/gif;base64,R0lGODlhQABAAIQAAAAAAGZmAJlmAGaZAJmZAMyZAP+ZAJnMAMzMAGZmM5lmM2aZM5…"
            ],
            "application/vnd.jupyter.widget-view+json": {
              "version_major": 2,
              "version_minor": 0,
              "model_id": "e011c48b565e494a8f200dbeeb0e6040"
            }
          },
          "metadata": {}
        }
      ]
    },
    {
      "cell_type": "code",
      "source": [
        "# og ex -- save latents as PLY mesh\n",
        "from shap_e.util.notebooks import decode_latent_mesh\n",
        "\n",
        "for i, latent in enumerate(latents):\n",
        "    with open(f'shape_gasstation_mesh_{i}.ply', 'wb') as f:\n",
        "        decode_latent_mesh(xm, latent).tri_mesh().write_ply(f)"
      ],
      "metadata": {
        "id": "zCWLAsNuehAU"
      },
      "execution_count": null,
      "outputs": []
    },
    {
      "cell_type": "code",
      "source": [
        "# obj mesh try\n",
        "\n",
        "# from shap_e.util.notebooks import decode_latent_mesh\n",
        "\n",
        "# for i, latent in enumerate(latents):\n",
        "#     with open(f'example_mesh_{i}.obj', 'w') as f:\n",
        "#         decode_latent_mesh(xm, latent).tri_mesh().write_obj(f)"
      ],
      "metadata": {
        "id": "pWb6eNF2f1aJ"
      },
      "execution_count": null,
      "outputs": []
    }
  ]
}